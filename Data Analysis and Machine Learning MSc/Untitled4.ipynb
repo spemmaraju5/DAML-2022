{
 "cells": [
  {
   "cell_type": "markdown",
   "id": "177b846e",
   "metadata": {},
   "source": [
    "## Question 1: Hierarchical Models\n",
    "A company has found that the widgets they manufacture contain some mysterious radioactive material. The company produced 100 widgets in 35 days before they realised the widgets contained radioactive material. Then it took 14 days before an investigation was started. The investigation took 90 days. During the investigation, a company worker would visit the location where a widget was shipped to, and measured the radioactive material in the widget. Only one measurement of the radioactive material was performed per widget.\n",
    "\n",
    "The company has asked you whether you can infer the rate of radioactive decay of the material in the widgets. They know that the amount of radioactive material $N$ at any time $t$ is\n",
    "$$N = N_{0}\\exp(-\\alpha[t-t_{0}])$$\n",
    "where \n",
    "$N$\n",
    " is measured in grams and \n",
    "$t$ is measured in seconds. They also know that the detectors they use to measure the amount of radioactive material reports uncertainties that are normally distributed.\n",
    "\n",
    "The company does not know how much radioactive material was initially put into each widget, but they know that the amount is different for each widget. However, they do know that the initial amount of radioactive material must be less than 20 grams in every widget.\n",
    "\n",
    "Unfortunately, the company also does not know when each widget was made. All they can tell you is that all 100 widgets were made in 35 days. You can see how this careless operation has led to such a problematic situation!"
   ]
  },
  {
   "cell_type": "markdown",
   "id": "0b590763",
   "metadata": {},
   "source": [
    "### Task 1\n",
    "Infer the decay rate \n",
    "$\\alpha$\n",
    " for the mysterious radioactive material.\n",
    "\n",
    "\n"
   ]
  },
  {
   "cell_type": "code",
   "execution_count": 2,
   "id": "1952a907",
   "metadata": {},
   "outputs": [
    {
     "data": {
      "text/html": [
       "<div>\n",
       "<style scoped>\n",
       "    .dataframe tbody tr th:only-of-type {\n",
       "        vertical-align: middle;\n",
       "    }\n",
       "\n",
       "    .dataframe tbody tr th {\n",
       "        vertical-align: top;\n",
       "    }\n",
       "\n",
       "    .dataframe thead th {\n",
       "        text-align: right;\n",
       "    }\n",
       "</style>\n",
       "<table border=\"1\" class=\"dataframe\">\n",
       "  <thead>\n",
       "    <tr style=\"text-align: right;\">\n",
       "      <th></th>\n",
       "      <th>time_measured_in_seconds</th>\n",
       "      <th>grams_measured</th>\n",
       "      <th>uncertainty_in_grams_measured</th>\n",
       "      <th>detector_name</th>\n",
       "    </tr>\n",
       "  </thead>\n",
       "  <tbody>\n",
       "    <tr>\n",
       "      <th>0</th>\n",
       "      <td>4.326713e+06</td>\n",
       "      <td>4.748644</td>\n",
       "      <td>1.664318</td>\n",
       "      <td>B</td>\n",
       "    </tr>\n",
       "    <tr>\n",
       "      <th>1</th>\n",
       "      <td>4.346864e+06</td>\n",
       "      <td>5.463939</td>\n",
       "      <td>0.994825</td>\n",
       "      <td>A</td>\n",
       "    </tr>\n",
       "    <tr>\n",
       "      <th>2</th>\n",
       "      <td>4.367005e+06</td>\n",
       "      <td>16.725223</td>\n",
       "      <td>1.877639</td>\n",
       "      <td>B</td>\n",
       "    </tr>\n",
       "    <tr>\n",
       "      <th>3</th>\n",
       "      <td>4.479198e+06</td>\n",
       "      <td>7.809898</td>\n",
       "      <td>0.639882</td>\n",
       "      <td>C</td>\n",
       "    </tr>\n",
       "    <tr>\n",
       "      <th>4</th>\n",
       "      <td>4.482168e+06</td>\n",
       "      <td>1.045603</td>\n",
       "      <td>0.212925</td>\n",
       "      <td>C</td>\n",
       "    </tr>\n",
       "  </tbody>\n",
       "</table>\n",
       "</div>"
      ],
      "text/plain": [
       "   time_measured_in_seconds  grams_measured  uncertainty_in_grams_measured  \\\n",
       "0              4.326713e+06        4.748644                       1.664318   \n",
       "1              4.346864e+06        5.463939                       0.994825   \n",
       "2              4.367005e+06       16.725223                       1.877639   \n",
       "3              4.479198e+06        7.809898                       0.639882   \n",
       "4              4.482168e+06        1.045603                       0.212925   \n",
       "\n",
       "  detector_name  \n",
       "0             B  \n",
       "1             A  \n",
       "2             B  \n",
       "3             C  \n",
       "4             C  "
      ]
     },
     "execution_count": 2,
     "metadata": {},
     "output_type": "execute_result"
    }
   ],
   "source": [
    "import numpy as np\n",
    "import pandas as pd\n",
    "import matplotlib.pyplot as plt\n",
    "# Load the data\n",
    "data = pd.read_csv(\"/Users/admzlm4/Documents/Assignments/DAML/decay.csv\")\n",
    "data.head()"
   ]
  },
  {
   "cell_type": "code",
   "execution_count": null,
   "id": "a3cdb5f3",
   "metadata": {},
   "outputs": [],
   "source": []
  }
 ],
 "metadata": {
  "kernelspec": {
   "display_name": "Python 3",
   "language": "python",
   "name": "python3"
  },
  "language_info": {
   "codemirror_mode": {
    "name": "ipython",
    "version": 3
   },
   "file_extension": ".py",
   "mimetype": "text/x-python",
   "name": "python",
   "nbconvert_exporter": "python",
   "pygments_lexer": "ipython3",
   "version": "3.8.8"
  }
 },
 "nbformat": 4,
 "nbformat_minor": 5
}
