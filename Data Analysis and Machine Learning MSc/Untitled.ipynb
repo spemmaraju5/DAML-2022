{
 "cells": [
  {
   "cell_type": "code",
   "execution_count": 27,
   "id": "a81e01c5",
   "metadata": {},
   "outputs": [
    {
     "data": {
      "image/png": "[encoded data removed]",
      "text/plain": [
       "<Figure size 432x288 with 1 Axes>"
      ]
     },
     "metadata": {
      "needs_background": "light"
     },
     "output_type": "display_data"
    }
   ],
   "source": [
    "import numpy as np\n",
    "import matplotlib.pyplot as plt\n",
    "import scipy.stats as stats\n",
    "import itertools\n",
    "np.random.seed(0)\n",
    "\n",
    "\n",
    "# Generate data\n",
    "mean1, sigma1, pi1  = -4, np.sqrt(1.2), 0.1 ## Mean and stdev (as sqrt of variance)\n",
    "mean2, sigma2, pi2= 4, np.sqrt(1.8), 0.1\n",
    "mean3, sigma3, pi3 = 0, np.sqrt(1.6), 0.2\n",
    "mean4, sigma4, pi4 = 2, np.sqrt(1.8), 0.4\n",
    "mean5, sigma5, pi5 = -1, np.sqrt(2), 0.2\n",
    "n_samples = 1000\n",
    "\n",
    "true_mean = [mean1, mean2, mean3, mean4, mean5]\n",
    "true_sigma = [sigma1, sigma2, sigma3, sigma4, sigma5]\n",
    "true_pi = [pi1, pi2, pi3, pi4, pi5]\n",
    "\n",
    "true_theta = np.array([true_mean, true_sigma, true_pi])\n",
    "\n",
    "\n",
    "x1 = np.random.normal(mean1, sigma1, int(n_samples*pi1))\n",
    "x2 = np.random.normal(mean2, sigma2, int(n_samples*pi2))\n",
    "x3 = np.random.normal(mean3, sigma3, int(n_samples*pi3))\n",
    "x4 = np.random.normal(mean4, sigma4, int(n_samples*pi4))\n",
    "x5 = np.random.normal(mean5, sigma5, int(n_samples*pi5))\n",
    "X = np.atleast_2d(list(x1) +list(x2) + list(x3)+list(x4)+list(x5))\n",
    "\n",
    "\n",
    "#Construct initial theta Ansatz (guess)\n",
    "mean_ansatz = [20, -10, -5, 13, 20]\n",
    "sigma_ansatz = [7, 2.4, 5.9, 2.1, 8]\n",
    "pi_ansatz = [0.4, 0.2, 0.1, 0.25, 0.05]\n",
    "\n",
    "theta_ansatz = np.array([mean_ansatz, sigma_ansatz, pi_ansatz])\n",
    "\n",
    "\n",
    "\n",
    "counter_vals = []\n",
    "# Part(b) Computing the membership probabilities\n",
    "counter = 0\n",
    "\n",
    "\n",
    "\n",
    "norm1 = true_pi[0]/sigma1*(np.exp(-((X-mean1)**2/2*sigma1**2)))\n",
    "norm2 = true_pi[1]/sigma2*(np.exp(-((X-mean2)**2/2*sigma2**2)))\n",
    "norm3 = true_pi[2]/sigma3*(np.exp(-((X-mean3)**2/2*sigma3**2)))\n",
    "norm4 = true_pi[3]/sigma4*(np.exp(-((X-mean4)**2/2*sigma4**2)))\n",
    "norm5 = true_pi[4]/sigma5*(np.exp(-((X-mean5)**2/2*sigma5**2)))                                                                        \n",
    "\n",
    "# Summation in the denominator        \n",
    "denom_sum = (norm1)+(norm2)+norm3+norm4+norm5\n",
    "\n",
    "while(counter < 100):\n",
    "\n",
    "    n_by_k = np.zeros((1000, 5)).T\n",
    "\n",
    "\n",
    "    for i in range(len(true_mean)):\n",
    "        n_by_k[i] = (true_pi[i]/true_sigma[i]*np.exp(-(X-true_mean[i])**2/2*true_sigma[i]**2))/denom_sum\n",
    "\n",
    "\n",
    "    n_by_k = n_by_k.T # Obtain a 1000 by 5 matrix as required\n",
    "  \n",
    "    # Update model parameters\n",
    "    N_k = n_by_k.sum(axis=0)\n",
    "    new_wnk = N_k/1000\n",
    "    pi_ansatz = new_wnk\n",
    "    # Update means\n",
    "    new_means = ((n_by_k.T @ X.T).T)/N_k\n",
    "    mean_ansatz = new_means\n",
    "\n",
    "    #Update sigma\n",
    "    #y-new_mean matrix\n",
    "    for k in range(len(new_means)):\n",
    "        x_minus_new_mean = ((X.T-new_means[k])**2)\n",
    "\n",
    "    new_sigma = (1/N_k*(n_by_k*(x_minus_new_mean)))\n",
    "    new_sigma = (np.sqrt(sum(new_sigma)))\n",
    "    sigma_ansatz = new_sigma\n",
    "    \n",
    "    arg = (-(X.T-new_means)**2)/(2*new_sigma**2)\n",
    "    log_ll = np.log(new_wnk/new_sigma*(np.exp(arg)))\n",
    "\n",
    "    \n",
    "    x = np.linspace(0, 100, 1000)\n",
    "    plt.plot(x,log_ll, c='b')\n",
    "    plt.xlabel('Number of iterations (EM Steps)')\n",
    "    plt.ylabel('Log likelihood')\n",
    "    plt.title('Plot of Log Likelihood vs Number of EM Iterations')\n",
    "    \n",
    "    \n",
    "    counter += 1"
   ]
  },
  {
   "cell_type": "code",
   "execution_count": null,
   "id": "c0c2b2bb",
   "metadata": {},
   "outputs": [],
   "source": []
  }
 ],
 "metadata": {
  "kernelspec": {
   "display_name": "Python 3",
   "language": "python",
   "name": "python3"
  },
  "language_info": {
   "codemirror_mode": {
    "name": "ipython",
    "version": 3
   },
   "file_extension": ".py",
   "mimetype": "text/x-python",
   "name": "python",
   "nbconvert_exporter": "python",
   "pygments_lexer": "ipython3",
   "version": "3.8.8"
  }
 },
 "nbformat": 4,
 "nbformat_minor": 5
}
