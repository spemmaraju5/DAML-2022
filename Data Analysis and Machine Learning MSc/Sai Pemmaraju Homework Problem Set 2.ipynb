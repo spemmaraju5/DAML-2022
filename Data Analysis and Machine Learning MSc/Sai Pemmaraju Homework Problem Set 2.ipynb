{
 "cells": [
  {
   "cell_type": "markdown",
   "id": "db6d0d36",
   "metadata": {},
   "source": [
    "## Question 1"
   ]
  },
  {
   "cell_type": "markdown",
   "id": "69221006",
   "metadata": {},
   "source": [
    "Rosenbrock's function is:\n",
    "$$f(x,y) = (1-x)^{2}+100(y-x^{2})^{2}$$"
   ]
  },
  {
   "cell_type": "markdown",
   "id": "254aad48",
   "metadata": {},
   "source": [
    "Calculate \n",
    "$\\log f\n",
    "(\n",
    "x\n",
    ",\n",
    "y\n",
    ")\n",
    "$\n",
    " on a grid of \n",
    "$x$\n",
    " and \n",
    "$y$\n",
    " values from \n",
    "$x\\in [-2,2]$\n",
    "and $y \\in [-2,2]$ with 250 grid points in each direction. Plot the \n",
    "$\\log\n",
    "f\n",
    "(\n",
    "x\n",
    ",\n",
    "y\n",
    ")$\n",
    " contours and include a colour bar to show the value of \n",
    "$\\log\n",
    "⁡\n",
    "f\n",
    "(\n",
    "x\n",
    ",\n",
    "y\n",
    ")\n",
    "$\n",
    "\n",
    "Starting from an initial value of \n",
    "$(\n",
    "x\n",
    ",\n",
    "y\n",
    ")\n",
    "=\n",
    "(\n",
    "−\n",
    "1\n",
    ",\n",
    "−\n",
    "1\n",
    ")$\n",
    ", find the minima given by Rosenbrock's function using\n",
    "\n",
    "1. the BFGS (or L-BFGS-B) algorithm,\n",
    "2. the Nelder-Mead algorithm (also known as the simplex algorithm), and\n",
    "3. an algorithm of your choice.\n",
    "\n",
    "For each algorithm, record the \n",
    "$(\n",
    "x\n",
    ",\n",
    "y\n",
    ")$\n",
    " points trialled by the algorithm and plot these on the figure you have made. This will show the path of both optimisation algorithms. Be sure to include a legend so it is clear which path corresponds to which algorithm.\n"
   ]
  },
  {
   "cell_type": "code",
   "execution_count": 42,
   "id": "499b2995",
   "metadata": {},
   "outputs": [
    {
     "name": "stdout",
     "output_type": "stream",
     "text": [
      "Collecting jax\n",
      "  Downloading jax-0.3.1.tar.gz (912 kB)\n",
      "\u001b[K     |████████████████████████████████| 912 kB 16.9 MB/s eta 0:00:01\n",
      "\u001b[?25hCollecting absl-py\n",
      "  Downloading absl_py-1.0.0-py3-none-any.whl (126 kB)\n",
      "\u001b[K     |████████████████████████████████| 126 kB 26.0 MB/s eta 0:00:01\n",
      "\u001b[?25hRequirement already satisfied: numpy>=1.19 in /Users/admzlm4/opt/anaconda3/lib/python3.8/site-packages (from jax) (1.20.1)\n",
      "Collecting opt_einsum\n",
      "  Downloading opt_einsum-3.3.0-py3-none-any.whl (65 kB)\n",
      "\u001b[K     |████████████████████████████████| 65 kB 11.2 MB/s eta 0:00:01\n",
      "\u001b[?25hRequirement already satisfied: scipy>=1.2.1 in /Users/admzlm4/opt/anaconda3/lib/python3.8/site-packages (from jax) (1.6.2)\n",
      "Requirement already satisfied: typing_extensions in /Users/admzlm4/opt/anaconda3/lib/python3.8/site-packages (from jax) (3.7.4.3)\n",
      "Requirement already satisfied: six in /Users/admzlm4/opt/anaconda3/lib/python3.8/site-packages (from absl-py->jax) (1.15.0)\n",
      "Building wheels for collected packages: jax\n",
      "  Building wheel for jax (setup.py) ... \u001b[?25ldone\n",
      "\u001b[?25h  Created wheel for jax: filename=jax-0.3.1-py3-none-any.whl size=1054277 sha256=4d9e9d0a9fc9e401ac3f715c10591db6fbff117dd76db2160a4b4a4506310d53\n",
      "  Stored in directory: /Users/admzlm4/Library/Caches/pip/wheels/98/c3/90/e1acae597e44d78506ce11b219919f4e43ef85bf4a3cb8bfc5\n",
      "Successfully built jax\n",
      "Installing collected packages: opt-einsum, absl-py, jax\n",
      "Successfully installed absl-py-1.0.0 jax-0.3.1 opt-einsum-3.3.0\n"
     ]
    },
    {
     "name": "stderr",
     "output_type": "stream",
     "text": [
      "<ipython-input-42-2eb0700624d0>:10: RuntimeWarning: divide by zero encountered in log\n",
      "  return np.log(((1-x[0])**2+100*(x[1]-x[0]**2)**2))\n",
      "/Users/admzlm4/opt/anaconda3/lib/python3.8/site-packages/scipy/optimize/optimize.py:734: RuntimeWarning: invalid value encountered in subtract\n",
      "  np.max(np.abs(fsim[0] - fsim[1:])) <= fatol):\n"
     ]
    },
    {
     "data": {
      "text/plain": [
       "Text(0, 0.5, '$\\\\log(f(x,y))$')"
      ]
     },
     "execution_count": 42,
     "metadata": {},
     "output_type": "execute_result"
    },
    {
     "data": {
      "image/png": "[encoded data removed]",
      "text/plain": [
       "<Figure size 432x288 with 2 Axes>"
      ]
     },
     "metadata": {
      "needs_background": "light"
     },
     "output_type": "display_data"
    }
   ],
   "source": [
    "!pip install jax\n",
    "import numpy as np \n",
    "import scipy.optimize as op\n",
    "import matplotlib.pyplot as plt\n",
    "\n",
    "import pandas as pd\n",
    "\n",
    "\n",
    "def log_rosenbrock(x):\n",
    "    return np.log(((1-x[0])**2+100*(x[1]-x[0]**2)**2))\n",
    "\n",
    "x = np.linspace(-2,2,250)\n",
    "y = np.linspace(-2, 2,250)\n",
    "\n",
    "x_vals, y_vals = np.meshgrid(x,y, sparse=True) \n",
    "\n",
    "def rosenbrock(x):\n",
    "    return np.exp(log_rosenbrock(x))\n",
    "\n",
    "\n",
    "\n",
    "h = plt.contourf(x,y,(log_rosenbrock([x_vals, y_vals])))\n",
    "plt.axis('scaled')\n",
    "plt.colorbar()\n",
    "\n",
    "\n",
    "# Optimize L-BFGS-B\n",
    "op.minimize(rosenbrock, x0=[-1,1], method='L-BFGS-B')\n",
    "\n",
    "#Optimize Nelder-Mead\n",
    "op.minimize(log_rosenbrock, x0=[-1,1], method='Nelder-Mead')\n",
    "\n",
    "#Optimize Sequential Least Squares Programming (Personal Choice)\n",
    "op.minimize(log_rosenbrock, x0 = [-1, 1], method='SLSQP')\n",
    "\n",
    "\n",
    "positions = []\n",
    "# Define the objective function.\n",
    "\n",
    "def objective_function(theta):\n",
    "    positions.append(theta)\n",
    "    x, y = theta\n",
    "    coord_arr = [x,y]\n",
    "    return rosenbrock(coord_arr)  \n",
    "\n",
    "#Could make this section more concise with a for-loop\n",
    "op.minimize(objective_function, [-1,1], method='Nelder-Mead')\n",
    "positions = np.array(positions)\n",
    "\n",
    "for i in range(len(positions)):\n",
    "    plt.scatter(positions[i][0], positions[i][1], color='b')\n",
    "    \n",
    "positions = list(positions)\n",
    "positions.clear()\n",
    "\n",
    "op.minimize(objective_function, [-1, 1], method='L-BFGS-B')\n",
    "positions = np.array(positions)\n",
    "\n",
    "for j in range(len(positions)):\n",
    "    plt.scatter(positions[j][0], positions[j][1], color='k')\n",
    "    \n",
    "positions = list(positions)\n",
    "positions.clear()\n",
    "\n",
    "op.minimize(objective_function, [-1,1], method='SLSQP')\n",
    "positions = np.array(positions)\n",
    "\n",
    "for k in range(len(positions)):\n",
    "      plt.scatter(positions[k][0], positions[k][1], color='r')\n",
    "\n",
    "plt.title(\"Contour Plot of Log Rosenbrock Function\")\n",
    "plt.xlabel(r'$x$')\n",
    "plt.ylabel(r'$\\log(f(x,y))$')"
   ]
  },
  {
   "cell_type": "markdown",
   "id": "546d87dd",
   "metadata": {},
   "source": [
    "## Question 2"
   ]
  },
  {
   "cell_type": "code",
   "execution_count": 39,
   "id": "819299e1",
   "metadata": {},
   "outputs": [
    {
     "data": {
      "text/plain": [
       "Text(0.5, 1.0, 'Plot of Data and Best Fit Model Parameter Curve')"
      ]
     },
     "execution_count": 39,
     "metadata": {},
     "output_type": "execute_result"
    },
    {
     "data": {
      "image/png": "[encoded data removed]",
      "text/plain": [
       "<Figure size 288x288 with 1 Axes>"
      ]
     },
     "metadata": {
      "needs_background": "light"
     },
     "output_type": "display_data"
    }
   ],
   "source": [
    "%matplotlib inline\n",
    "#Data generation\n",
    "np.random.seed(0)\n",
    "\n",
    "N = 30\n",
    "\n",
    "x = np.random.uniform(0, 100, N)\n",
    "\n",
    "theta = np.random.uniform(-1e-3, 1e-3, size=(4, 1))\n",
    "\n",
    "# Define the design matrix.\n",
    "A = np.vstack([\n",
    "    np.ones(N),\n",
    "    x, \n",
    "    x**2, \n",
    "    x**3\n",
    "]).T\n",
    "      \n",
    "y_true = (A @ theta).flatten()\n",
    "y_err_intrinsic = 10 # MAGIC number!\n",
    "y_err = y_err_intrinsic * np.random.randn(N)\n",
    "\n",
    "y = y_true + np.random.randn(N) * y_err\n",
    "y_err = np.abs(y_err)\n",
    "\n",
    "x, y, y_err = data = np.array([x, y, y_err])\n",
    "\n",
    "\n",
    "\n",
    "fig, ax = plt.subplots(figsize = (4,4))\n",
    "# Define remaining matrices\n",
    "Y = np.atleast_2d(y).T\n",
    "C = np.diag(y_err**2)\n",
    "\n",
    "# Determine optimal model parameter\n",
    "C_inv = np.linalg.inv(C)\n",
    "G = np.linalg.inv(A.T @ C_inv @ A)\n",
    "best_fit_theta_matrix = G @ (A.T @ C_inv @ Y)\n",
    "\n",
    "theta_0, theta_1,theta_2, theta_3 = best_fit_theta_matrix.T[0]\n",
    "\n",
    "xl = np.linspace(0,100,30)\n",
    "ax.scatter(x,y,c='k', edgecolor=\"k\", lw=1, cmap='Greys',s=20)\n",
    "ax.errorbar(x, y, yerr=y_err, fmt='none', lw=1,c=\"k\", zorder=-1)\n",
    "ax.plot(xl,((theta_0)+(theta_1*xl)+(theta_2*xl**2)+(theta_3*xl**3)), color = 'r')\n",
    "plt.xlabel(r'$x$')\n",
    "plt.ylabel(r'$y$')\n",
    "plt.title('Plot of Data and Best Fit Model Parameter Curve')"
   ]
  },
  {
   "cell_type": "markdown",
   "id": "b15fd1e5",
   "metadata": {},
   "source": [
    "## Question 3"
   ]
  },
  {
   "cell_type": "markdown",
   "id": "4a800eb4",
   "metadata": {},
   "source": [
    "In this question we will use a Leapfrog integrator to integrate the motion of a particle in a potential. This will be used in Question 4 when you implement a Hamiltonian Monte Carlo sampler. Recall that at time \n",
    "t\n",
    " a particle in some system with a location \n",
    "$x\n",
    "(\n",
    "t\n",
    ")$\n",
    " and a momentum \n",
    "$p\n",
    "(\n",
    "t\n",
    ")$\n",
    " can be fully described by the Hamiltonian:\n",
    "$$\\mathcal{H}(\\vec{x}, \\vec{p}) = U(\\vec{x})+ K(\\vec{p})$$"
   ]
  },
  {
   "cell_type": "markdown",
   "id": "48b0533e",
   "metadata": {},
   "source": [
    "where the sum of gravitational \n",
    "$U$\n",
    " and kinetic \n",
    "$K\n",
    "$ energy remains constant with time. Let:\n",
    "\n",
    "$$ K(\\vec{p}) =\\frac{\\vec{p^{T}}{\\vec{p}}{2}}$$\n",
    "and $$U(\\vec{x}) = -\\log(p(\\vec{x})$$\n"
   ]
  },
  {
   "cell_type": "code",
   "execution_count": 51,
   "id": "8eb629b0",
   "metadata": {},
   "outputs": [
    {
     "ename": "AttributeError",
     "evalue": "partially initialized module 'jax' has no attribute '_src' (most likely due to a circular import)",
     "output_type": "error",
     "traceback": [
      "\u001b[0;31m---------------------------------------------------------------------------\u001b[0m",
      "\u001b[0;31mAttributeError\u001b[0m                            Traceback (most recent call last)",
      "\u001b[0;32m<ipython-input-51-b155b5a7b39b>\u001b[0m in \u001b[0;36m<module>\u001b[0;34m\u001b[0m\n\u001b[0;32m----> 1\u001b[0;31m \u001b[0;32mfrom\u001b[0m \u001b[0mjax\u001b[0m \u001b[0;32mimport\u001b[0m \u001b[0mgrad\u001b[0m\u001b[0;34m\u001b[0m\u001b[0;34m\u001b[0m\u001b[0m\n\u001b[0m\u001b[1;32m      2\u001b[0m \u001b[0;32mdef\u001b[0m \u001b[0mneg_log_prob\u001b[0m\u001b[0;34m(\u001b[0m\u001b[0mtheta\u001b[0m\u001b[0;34m)\u001b[0m\u001b[0;34m:\u001b[0m\u001b[0;34m\u001b[0m\u001b[0;34m\u001b[0m\u001b[0m\n\u001b[1;32m      3\u001b[0m     \u001b[0;32mreturn\u001b[0m \u001b[0;36m0.5\u001b[0m \u001b[0;34m*\u001b[0m \u001b[0;34m(\u001b[0m\u001b[0mtheta\u001b[0m \u001b[0;34m-\u001b[0m \u001b[0;36m1.2\u001b[0m\u001b[0;34m)\u001b[0m\u001b[0;34m**\u001b[0m\u001b[0;36m2\u001b[0m\u001b[0;34m\u001b[0m\u001b[0;34m\u001b[0m\u001b[0m\n\u001b[1;32m      4\u001b[0m \u001b[0mgrad_neg_log_prob\u001b[0m \u001b[0;34m=\u001b[0m \u001b[0mgrad\u001b[0m\u001b[0;34m(\u001b[0m\u001b[0mneg_log_prob\u001b[0m\u001b[0;34m)\u001b[0m\u001b[0;34m\u001b[0m\u001b[0;34m\u001b[0m\u001b[0m\n",
      "\u001b[0;32m~/opt/anaconda3/lib/python3.8/site-packages/jax/__init__.py\u001b[0m in \u001b[0;36m<module>\u001b[0;34m\u001b[0m\n\u001b[1;32m    123\u001b[0m   \u001b[0mxla_computation\u001b[0m \u001b[0;32mas\u001b[0m \u001b[0mxla_computation\u001b[0m\u001b[0;34m,\u001b[0m\u001b[0;34m\u001b[0m\u001b[0;34m\u001b[0m\u001b[0m\n\u001b[1;32m    124\u001b[0m )\n\u001b[0;32m--> 125\u001b[0;31m \u001b[0;32mfrom\u001b[0m \u001b[0mjax\u001b[0m\u001b[0;34m.\u001b[0m\u001b[0mexperimental\u001b[0m\u001b[0;34m.\u001b[0m\u001b[0mmaps\u001b[0m \u001b[0;32mimport\u001b[0m \u001b[0msoft_pmap\u001b[0m \u001b[0;32mas\u001b[0m \u001b[0msoft_pmap\u001b[0m\u001b[0;34m\u001b[0m\u001b[0;34m\u001b[0m\u001b[0m\n\u001b[0m\u001b[1;32m    126\u001b[0m \u001b[0;32mfrom\u001b[0m \u001b[0mjax\u001b[0m\u001b[0;34m.\u001b[0m\u001b[0mversion\u001b[0m \u001b[0;32mimport\u001b[0m \u001b[0m__version__\u001b[0m \u001b[0;32mas\u001b[0m \u001b[0m__version__\u001b[0m\u001b[0;34m\u001b[0m\u001b[0;34m\u001b[0m\u001b[0m\n\u001b[1;32m    127\u001b[0m \u001b[0;34m\u001b[0m\u001b[0m\n",
      "\u001b[0;32m~/opt/anaconda3/lib/python3.8/site-packages/jax/experimental/maps.py\u001b[0m in \u001b[0;36m<module>\u001b[0;34m\u001b[0m\n\u001b[1;32m     24\u001b[0m \u001b[0;32mfrom\u001b[0m \u001b[0menum\u001b[0m \u001b[0;32mimport\u001b[0m \u001b[0mEnum\u001b[0m\u001b[0;34m\u001b[0m\u001b[0;34m\u001b[0m\u001b[0m\n\u001b[1;32m     25\u001b[0m \u001b[0;34m\u001b[0m\u001b[0m\n\u001b[0;32m---> 26\u001b[0;31m \u001b[0;32mfrom\u001b[0m \u001b[0mjax\u001b[0m \u001b[0;32mimport\u001b[0m \u001b[0mnumpy\u001b[0m \u001b[0;32mas\u001b[0m \u001b[0mjnp\u001b[0m\u001b[0;34m\u001b[0m\u001b[0;34m\u001b[0m\u001b[0m\n\u001b[0m\u001b[1;32m     27\u001b[0m \u001b[0;32mfrom\u001b[0m \u001b[0mjax\u001b[0m \u001b[0;32mimport\u001b[0m \u001b[0mcore\u001b[0m\u001b[0;34m\u001b[0m\u001b[0;34m\u001b[0m\u001b[0m\n\u001b[1;32m     28\u001b[0m \u001b[0;32mfrom\u001b[0m \u001b[0mjax\u001b[0m \u001b[0;32mimport\u001b[0m \u001b[0mlinear_util\u001b[0m \u001b[0;32mas\u001b[0m \u001b[0mlu\u001b[0m\u001b[0;34m\u001b[0m\u001b[0;34m\u001b[0m\u001b[0m\n",
      "\u001b[0;32m~/opt/anaconda3/lib/python3.8/site-packages/jax/numpy/__init__.py\u001b[0m in \u001b[0;36m<module>\u001b[0;34m\u001b[0m\n\u001b[1;32m     17\u001b[0m \u001b[0;34m\u001b[0m\u001b[0m\n\u001b[1;32m     18\u001b[0m \u001b[0;31m# flake8: noqa: F401\u001b[0m\u001b[0;34m\u001b[0m\u001b[0;34m\u001b[0m\u001b[0;34m\u001b[0m\u001b[0m\n\u001b[0;32m---> 19\u001b[0;31m \u001b[0;32mfrom\u001b[0m \u001b[0mjax\u001b[0m\u001b[0;34m.\u001b[0m\u001b[0mnumpy\u001b[0m \u001b[0;32mimport\u001b[0m \u001b[0mfft\u001b[0m \u001b[0;32mas\u001b[0m \u001b[0mfft\u001b[0m\u001b[0;34m\u001b[0m\u001b[0;34m\u001b[0m\u001b[0m\n\u001b[0m\u001b[1;32m     20\u001b[0m \u001b[0;32mfrom\u001b[0m \u001b[0mjax\u001b[0m\u001b[0;34m.\u001b[0m\u001b[0mnumpy\u001b[0m \u001b[0;32mimport\u001b[0m \u001b[0mlinalg\u001b[0m \u001b[0;32mas\u001b[0m \u001b[0mlinalg\u001b[0m\u001b[0;34m\u001b[0m\u001b[0;34m\u001b[0m\u001b[0m\n\u001b[1;32m     21\u001b[0m \u001b[0;34m\u001b[0m\u001b[0m\n",
      "\u001b[0;32m~/opt/anaconda3/lib/python3.8/site-packages/jax/numpy/fft.py\u001b[0m in \u001b[0;36m<module>\u001b[0;34m\u001b[0m\n\u001b[1;32m     15\u001b[0m \u001b[0;31m# flake8: noqa: F401\u001b[0m\u001b[0;34m\u001b[0m\u001b[0;34m\u001b[0m\u001b[0;34m\u001b[0m\u001b[0m\n\u001b[1;32m     16\u001b[0m \u001b[0;34m\u001b[0m\u001b[0m\n\u001b[0;32m---> 17\u001b[0;31m from jax._src.numpy.fft import (\n\u001b[0m\u001b[1;32m     18\u001b[0m   \u001b[0mifft\u001b[0m \u001b[0;32mas\u001b[0m \u001b[0mifft\u001b[0m\u001b[0;34m,\u001b[0m\u001b[0;34m\u001b[0m\u001b[0;34m\u001b[0m\u001b[0m\n\u001b[1;32m     19\u001b[0m   \u001b[0mifft2\u001b[0m \u001b[0;32mas\u001b[0m \u001b[0mifft2\u001b[0m\u001b[0;34m,\u001b[0m\u001b[0;34m\u001b[0m\u001b[0;34m\u001b[0m\u001b[0m\n",
      "\u001b[0;32m~/opt/anaconda3/lib/python3.8/site-packages/jax/_src/numpy/fft.py\u001b[0m in \u001b[0;36m<module>\u001b[0;34m\u001b[0m\n\u001b[1;32m     17\u001b[0m \u001b[0;32mimport\u001b[0m \u001b[0mnumpy\u001b[0m \u001b[0;32mas\u001b[0m \u001b[0mnp\u001b[0m\u001b[0;34m\u001b[0m\u001b[0;34m\u001b[0m\u001b[0m\n\u001b[1;32m     18\u001b[0m \u001b[0;34m\u001b[0m\u001b[0m\n\u001b[0;32m---> 19\u001b[0;31m \u001b[0;32mfrom\u001b[0m \u001b[0mjax\u001b[0m \u001b[0;32mimport\u001b[0m \u001b[0mlax\u001b[0m\u001b[0;34m\u001b[0m\u001b[0;34m\u001b[0m\u001b[0m\n\u001b[0m\u001b[1;32m     20\u001b[0m \u001b[0;32mfrom\u001b[0m \u001b[0mjax\u001b[0m\u001b[0;34m.\u001b[0m\u001b[0m_src\u001b[0m\u001b[0;34m.\u001b[0m\u001b[0mlib\u001b[0m \u001b[0;32mimport\u001b[0m \u001b[0mxla_client\u001b[0m\u001b[0;34m\u001b[0m\u001b[0;34m\u001b[0m\u001b[0m\n\u001b[1;32m     21\u001b[0m \u001b[0;32mfrom\u001b[0m \u001b[0mjax\u001b[0m\u001b[0;34m.\u001b[0m\u001b[0m_src\u001b[0m\u001b[0;34m.\u001b[0m\u001b[0mutil\u001b[0m \u001b[0;32mimport\u001b[0m \u001b[0msafe_zip\u001b[0m\u001b[0;34m\u001b[0m\u001b[0;34m\u001b[0m\u001b[0m\n",
      "\u001b[0;32m~/opt/anaconda3/lib/python3.8/site-packages/jax/lax/__init__.py\u001b[0m in \u001b[0;36m<module>\u001b[0;34m\u001b[0m\n\u001b[1;32m     14\u001b[0m \u001b[0;34m\u001b[0m\u001b[0m\n\u001b[1;32m     15\u001b[0m \u001b[0;31m# flake8: noqa: F401\u001b[0m\u001b[0;34m\u001b[0m\u001b[0;34m\u001b[0m\u001b[0;34m\u001b[0m\u001b[0m\n\u001b[0;32m---> 16\u001b[0;31m from jax._src.lax.lax import (\n\u001b[0m\u001b[1;32m     17\u001b[0m   \u001b[0mDotDimensionNumbers\u001b[0m \u001b[0;32mas\u001b[0m \u001b[0mDotDimensionNumbers\u001b[0m\u001b[0;34m,\u001b[0m\u001b[0;34m\u001b[0m\u001b[0;34m\u001b[0m\u001b[0m\n\u001b[1;32m     18\u001b[0m   \u001b[0mPrecision\u001b[0m \u001b[0;32mas\u001b[0m \u001b[0mPrecision\u001b[0m\u001b[0;34m,\u001b[0m\u001b[0;34m\u001b[0m\u001b[0;34m\u001b[0m\u001b[0m\n",
      "\u001b[0;32m~/opt/anaconda3/lib/python3.8/site-packages/jax/_src/lax/lax.py\u001b[0m in \u001b[0;36m<module>\u001b[0;34m\u001b[0m\n\u001b[1;32m   4162\u001b[0m \u001b[0;34m\u001b[0m\u001b[0m\n\u001b[1;32m   4163\u001b[0m \u001b[0;34m\u001b[0m\u001b[0m\n\u001b[0;32m-> 4164\u001b[0;31m \u001b[0;32mif\u001b[0m \u001b[0mjax\u001b[0m\u001b[0;34m.\u001b[0m\u001b[0m_src\u001b[0m\u001b[0;34m.\u001b[0m\u001b[0mlib\u001b[0m\u001b[0;34m.\u001b[0m\u001b[0mmlir_api_version\u001b[0m \u001b[0;34m>=\u001b[0m \u001b[0;36m2\u001b[0m\u001b[0;34m:\u001b[0m\u001b[0;34m\u001b[0m\u001b[0;34m\u001b[0m\u001b[0m\n\u001b[0m\u001b[1;32m   4165\u001b[0m \u001b[0;34m\u001b[0m\u001b[0m\n\u001b[1;32m   4166\u001b[0m   \u001b[0;32mdef\u001b[0m \u001b[0m_infeed_lowering\u001b[0m\u001b[0;34m(\u001b[0m\u001b[0mctx\u001b[0m\u001b[0;34m,\u001b[0m \u001b[0mtoken\u001b[0m\u001b[0;34m,\u001b[0m \u001b[0;34m*\u001b[0m\u001b[0;34m,\u001b[0m \u001b[0mshapes\u001b[0m\u001b[0;34m,\u001b[0m \u001b[0mpartitions\u001b[0m\u001b[0;34m)\u001b[0m\u001b[0;34m:\u001b[0m\u001b[0;34m\u001b[0m\u001b[0;34m\u001b[0m\u001b[0m\n",
      "\u001b[0;31mAttributeError\u001b[0m: partially initialized module 'jax' has no attribute '_src' (most likely due to a circular import)"
     ]
    }
   ],
   "source": [
    "from jax import grad\n",
    "def neg_log_prob(theta):\n",
    "    return 0.5 * (theta - 1.2)**2\n",
    "grad_neg_log_prob = grad(neg_log_prob)"
   ]
  },
  {
   "cell_type": "code",
   "execution_count": null,
   "id": "16ef99b5",
   "metadata": {},
   "outputs": [],
   "source": []
  },
  {
   "cell_type": "code",
   "execution_count": null,
   "id": "11390816",
   "metadata": {},
   "outputs": [],
   "source": []
  }
 ],
 "metadata": {
  "kernelspec": {
   "display_name": "Python 3",
   "language": "python",
   "name": "python3"
  },
  "language_info": {
   "codemirror_mode": {
    "name": "ipython",
    "version": 3
   },
   "file_extension": ".py",
   "mimetype": "text/x-python",
   "name": "python",
   "nbconvert_exporter": "python",
   "pygments_lexer": "ipython3",
   "version": "3.8.8"
  }
 },
 "nbformat": 4,
 "nbformat_minor": 5
}
